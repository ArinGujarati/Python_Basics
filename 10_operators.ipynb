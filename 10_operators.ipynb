{
 "cells": [
  {
   "cell_type": "markdown",
   "metadata": {},
   "source": [
    "Airthmetic   + - / // % ** *\n",
    "\n",
    "Assignment operator   = , += , -=\n",
    "\n",
    "Comparision operator  ==, != , > ,<,>= ,<=\n",
    "\n",
    "Logical Opeartors and or not\n",
    "\n",
    "Indentity operators is is not\n",
    "\n",
    "Membership operators in , not in\n"
   ]
  },
  {
   "cell_type": "code",
   "execution_count": 7,
   "metadata": {},
   "outputs": [
    {
     "name": "stdout",
     "output_type": "stream",
     "text": [
      "13\n",
      "7\n",
      "30\n",
      "3.3333333333333335\n",
      "3\n",
      "1\n",
      "8\n"
     ]
    }
   ],
   "source": [
    "a=10\n",
    "b=3\n",
    "print(a+b)\n",
    "print(a-b)\n",
    "print(a*b)\n",
    "print(a/b)      ##  / gives answer in float (decimal places)\n",
    "print(a//b)     ##  gives you the qoutient obtained after dividing\n",
    "print(a%b)   # % gives you the remainder\n",
    "print(2**3)    ## x **y means x^y x raised to power y   (x multiplied y times)"
   ]
  },
  {
   "cell_type": "code",
   "execution_count": 8,
   "metadata": {},
   "outputs": [
    {
     "name": "stdout",
     "output_type": "stream",
     "text": [
      "False\n",
      "True\n",
      "True\n",
      "False\n",
      "True\n",
      "False\n"
     ]
    }
   ],
   "source": [
    "## Comparision Operators will give you answer in True/ False (bool)\n",
    "\n",
    "x=100\n",
    "y=20\n",
    "\n",
    "print(x==y)\n",
    "print(x!=y)      ## != does not equals\n",
    "print(x>y)\n",
    "print(x<y)\n",
    "print(x>=y)\n",
    "print(x<=y)"
   ]
  },
  {
   "cell_type": "code",
   "execution_count": 9,
   "metadata": {},
   "outputs": [
    {
     "name": "stdout",
     "output_type": "stream",
     "text": [
      "True\n",
      "True\n"
     ]
    }
   ],
   "source": [
    "x=10\n",
    "y=20\n",
    "z=13\n",
    "\n",
    "print(y>x and y>z)\n",
    "\n",
    "print(y>x or z>y)"
   ]
  },
  {
   "cell_type": "code",
   "execution_count": 10,
   "metadata": {},
   "outputs": [],
   "source": [
    "x=[1,2,3,4]\n",
    "\n",
    "y=x\n",
    "\n",
    "z=[1,2,3]"
   ]
  },
  {
   "cell_type": "code",
   "execution_count": 11,
   "metadata": {},
   "outputs": [
    {
     "name": "stdout",
     "output_type": "stream",
     "text": [
      "True\n",
      "True\n"
     ]
    }
   ],
   "source": [
    "print(y is x)\n",
    "print(y is not z)"
   ]
  },
  {
   "cell_type": "code",
   "execution_count": 12,
   "metadata": {},
   "outputs": [
    {
     "name": "stdout",
     "output_type": "stream",
     "text": [
      "True\n",
      "True\n"
     ]
    }
   ],
   "source": [
    "## Membership operators\n",
    "\n",
    "list1=[\"Vaishanvi\",\"Karan\",\"Pradeep\",\"Divya\"]\n",
    "\n",
    "print(\"Divya\" in list1)\n",
    "print(\"Akash\" not in list1)"
   ]
  }
 ],
 "metadata": {
  "kernelspec": {
   "display_name": "base",
   "language": "python",
   "name": "python3"
  },
  "language_info": {
   "codemirror_mode": {
    "name": "ipython",
    "version": 3
   },
   "file_extension": ".py",
   "mimetype": "text/x-python",
   "name": "python",
   "nbconvert_exporter": "python",
   "pygments_lexer": "ipython3",
   "version": "3.11.5"
  }
 },
 "nbformat": 4,
 "nbformat_minor": 2
}
