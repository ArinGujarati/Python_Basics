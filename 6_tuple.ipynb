{
 "cells": [
  {
   "cell_type": "markdown",
   "metadata": {},
   "source": [
    "## Tuple\n",
    "\n",
    "In tuple you cannot chnage the value of the elements, neither you can add or delete elemets"
   ]
  },
  {
   "cell_type": "code",
   "execution_count": 1,
   "metadata": {},
   "outputs": [
    {
     "name": "stdout",
     "output_type": "stream",
     "text": [
      "Tuple Value is:  ('div213', 'ak3452', 'kasy3203', 'edse54')\n",
      "Type of value is:  <class 'tuple'>\n"
     ]
    }
   ],
   "source": [
    "## Syntax of making a tuple\n",
    "\n",
    "username=('div213','ak3452','kasy3203','edse54')\n",
    "print('Tuple Value is: ', username)\n",
    "print('Type of value is: ', type(username))"
   ]
  },
  {
   "cell_type": "code",
   "execution_count": 2,
   "metadata": {},
   "outputs": [
    {
     "data": {
      "text/plain": [
       "('ak3452', 'kasy3203')"
      ]
     },
     "execution_count": 2,
     "metadata": {},
     "output_type": "execute_result"
    }
   ],
   "source": [
    "# We cannot add or remove elemnts in tuple but tuple supports slicing\n",
    "username[1:3]"
   ]
  }
 ],
 "metadata": {
  "kernelspec": {
   "display_name": "base",
   "language": "python",
   "name": "python3"
  },
  "language_info": {
   "codemirror_mode": {
    "name": "ipython",
    "version": 3
   },
   "file_extension": ".py",
   "mimetype": "text/x-python",
   "name": "python",
   "nbconvert_exporter": "python",
   "pygments_lexer": "ipython3",
   "version": "3.11.5"
  }
 },
 "nbformat": 4,
 "nbformat_minor": 2
}
