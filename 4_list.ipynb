{
 "cells": [
  {
   "cell_type": "markdown",
   "metadata": {},
   "source": [
    "## List"
   ]
  },
  {
   "cell_type": "code",
   "execution_count": 8,
   "metadata": {},
   "outputs": [
    {
     "name": "stdout",
     "output_type": "stream",
     "text": [
      "List Value is:  ['Akshay', 'Akash', 'Anthony', 'Pradeep', 'Arin', 'Mahesh']\n",
      "Type of value is:  <class 'list'>\n"
     ]
    }
   ],
   "source": [
    "## List: List is a mutable data type (it can be changed)\n",
    "\n",
    "## to create a list:\n",
    "names=[\"Akshay\",\"Akash\",\"Anthony\",\"Pradeep\",\"Arin\",\"Mahesh\"]\n",
    "\n",
    "print('List Value is: ', names)\n",
    "print('Type of value is: ', type(names))"
   ]
  },
  {
   "cell_type": "code",
   "execution_count": 9,
   "metadata": {},
   "outputs": [
    {
     "data": {
      "text/plain": [
       "'Anthony'"
      ]
     },
     "execution_count": 9,
     "metadata": {},
     "output_type": "execute_result"
    }
   ],
   "source": [
    "# acces value of list using index no\n",
    "# in list index count start from 0\n",
    "names[2]"
   ]
  },
  {
   "cell_type": "code",
   "execution_count": 10,
   "metadata": {},
   "outputs": [
    {
     "name": "stdout",
     "output_type": "stream",
     "text": [
      "Before Change value Anthony\n",
      "After Change value Divya\n"
     ]
    }
   ],
   "source": [
    "# changing the list elements value\n",
    "\n",
    "print('Before Change value',names[2])\n",
    "\n",
    "names[2]=\"Divya\"\n",
    "\n",
    "print('After Change value',names[2])"
   ]
  },
  {
   "cell_type": "code",
   "execution_count": 11,
   "metadata": {},
   "outputs": [
    {
     "name": "stdout",
     "output_type": "stream",
     "text": [
      "['Akshay', 'Akash', 'Divya', 'Pradeep', 'Arin', 'Mahesh']\n",
      "The length is 6\n",
      "['Akshay', 'Akash', 'Divya', 'Pradeep', 'Arin', 'Mahesh', 'Sunil']\n",
      "The length is 7\n",
      "3\n",
      "6\n"
     ]
    }
   ],
   "source": [
    "## Some important List functions\n",
    "\n",
    "print(names)\n",
    "print(\"The length is\", len(names))\n",
    "\n",
    "#1. append() , append adds a element at the last of the list\n",
    "names.append(\"Sunil\")\n",
    "print(names)\n",
    "print(\"The length is\", len(names))\n",
    "\n",
    "#2. index() , gives the first index of any element\n",
    "print(names.index('Pradeep'))\n",
    "print(names.index('Sunil'))"
   ]
  },
  {
   "cell_type": "code",
   "execution_count": 12,
   "metadata": {},
   "outputs": [
    {
     "name": "stdout",
     "output_type": "stream",
     "text": [
      "['Apple', 'Banana']\n"
     ]
    }
   ],
   "source": [
    "## 3. remove an element ,\n",
    "\n",
    "## pop , pop will remove the last element, by default\n",
    "\n",
    "list2=[\"Apple\",\"Banana\",'Tomato','Potato']\n",
    "\n",
    "list2.pop()\n",
    "list2.pop(2)    # (2 is the elememt's index which you want to remove)\n",
    "print(list2)"
   ]
  },
  {
   "cell_type": "code",
   "execution_count": 13,
   "metadata": {},
   "outputs": [
    {
     "name": "stdout",
     "output_type": "stream",
     "text": [
      "['Apple', 'Tomato', 'Potato']\n"
     ]
    }
   ],
   "source": [
    "## 4. What if i want to remove any element by it's name / value\n",
    "\n",
    "list2=[\"Apple\",\"Banana\",'Tomato','Potato']\n",
    "\n",
    "list2.remove('Banana')\n",
    "print(list2)"
   ]
  },
  {
   "cell_type": "code",
   "execution_count": 14,
   "metadata": {},
   "outputs": [
    {
     "name": "stdout",
     "output_type": "stream",
     "text": [
      "Before Sorting List:  [234, 325, 523, 543, 43, 343, 3, 5, 2]\n",
      "After Sorting List:  [2, 3, 5, 43, 234, 325, 343, 523, 543]\n",
      "After Sorting and Reverse List:  [543, 523, 343, 325, 234, 43, 5, 3, 2]\n"
     ]
    }
   ],
   "source": [
    "## 5. Sorting any list\n",
    "\n",
    "list2=[234,325,523,543,43,343,3,5,2]\n",
    "print('Before Sorting List: ',list2)\n",
    "\n",
    "list2.sort()                  # list will be sorted in ascending order by default\n",
    "print('After Sorting List: ',list2)\n",
    "\n",
    "\n",
    "list2.sort(reverse=True)              # reverse=True will sort my array in descending order\n",
    "print('After Sorting and Reverse List: ',list2)"
   ]
  }
 ],
 "metadata": {
  "kernelspec": {
   "display_name": "base",
   "language": "python",
   "name": "python3"
  },
  "language_info": {
   "codemirror_mode": {
    "name": "ipython",
    "version": 3
   },
   "file_extension": ".py",
   "mimetype": "text/x-python",
   "name": "python",
   "nbconvert_exporter": "python",
   "pygments_lexer": "ipython3",
   "version": "3.11.5"
  }
 },
 "nbformat": 4,
 "nbformat_minor": 2
}
