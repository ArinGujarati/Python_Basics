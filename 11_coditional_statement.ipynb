{
 "cells": [
  {
   "cell_type": "markdown",
   "metadata": {},
   "source": [
    "## Conditional Statements"
   ]
  },
  {
   "cell_type": "code",
   "execution_count": 3,
   "metadata": {},
   "outputs": [
    {
     "name": "stdout",
     "output_type": "stream",
     "text": [
      "A is greater than B\n"
     ]
    }
   ],
   "source": [
    "a=10\n",
    "b=9\n",
    "\n",
    "if b>a:\n",
    "  print(\"B is greater than A\")\n",
    "else: \n",
    "    print(\"A is greater than B\")"
   ]
  },
  {
   "cell_type": "code",
   "execution_count": 4,
   "metadata": {},
   "outputs": [
    {
     "name": "stdout",
     "output_type": "stream",
     "text": [
      "89 is greater\n"
     ]
    }
   ],
   "source": [
    "## Make a program which will check which is greater?\n",
    "\n",
    "num1=int(input(\"Enter a number\"))\n",
    "num2=int(input(\"Enter another number\"))\n",
    "\n",
    "if num1==num2:\n",
    "  print(num1,\"is greater (I'm from if)\")\n",
    "\n",
    "elif num1==num2:\n",
    "  print(num1,num2 , 'Are equal')\n",
    "\n",
    "else:\n",
    "  print(num2,\"is greater\")"
   ]
  }
 ],
 "metadata": {
  "kernelspec": {
   "display_name": "base",
   "language": "python",
   "name": "python3"
  },
  "language_info": {
   "codemirror_mode": {
    "name": "ipython",
    "version": 3
   },
   "file_extension": ".py",
   "mimetype": "text/x-python",
   "name": "python",
   "nbconvert_exporter": "python",
   "pygments_lexer": "ipython3",
   "version": "3.11.5"
  }
 },
 "nbformat": 4,
 "nbformat_minor": 2
}
