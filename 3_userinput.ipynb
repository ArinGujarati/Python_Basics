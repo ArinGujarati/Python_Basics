{
 "cells": [
  {
   "cell_type": "markdown",
   "metadata": {},
   "source": [
    "## UserInput"
   ]
  },
  {
   "cell_type": "code",
   "execution_count": 1,
   "metadata": {},
   "outputs": [
    {
     "name": "stdout",
     "output_type": "stream",
     "text": [
      "Hello Javed\n"
     ]
    }
   ],
   "source": [
    "#We have a function input()\n",
    "name_user=input(\"Enter your name \")\n",
    "print(\"Hello\",name_user)"
   ]
  },
  {
   "cell_type": "code",
   "execution_count": 2,
   "metadata": {},
   "outputs": [
    {
     "name": "stdout",
     "output_type": "stream",
     "text": [
      "Enter Value is:  85.0  and type is:  <class 'float'>\n"
     ]
    }
   ],
   "source": [
    "# Enter specific Float Value\n",
    "num1=float(input(\"Enter a number \"))\n",
    "print(\"Enter Value is: \", num1 , \" and type is: \", type(num1))"
   ]
  }
 ],
 "metadata": {
  "kernelspec": {
   "display_name": "base",
   "language": "python",
   "name": "python3"
  },
  "language_info": {
   "codemirror_mode": {
    "name": "ipython",
    "version": 3
   },
   "file_extension": ".py",
   "mimetype": "text/x-python",
   "name": "python",
   "nbconvert_exporter": "python",
   "pygments_lexer": "ipython3",
   "version": "3.11.5"
  }
 },
 "nbformat": 4,
 "nbformat_minor": 2
}
