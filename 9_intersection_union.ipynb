{
 "cells": [
  {
   "cell_type": "markdown",
   "metadata": {},
   "source": [
    "## Intersection and union"
   ]
  },
  {
   "cell_type": "code",
   "execution_count": 1,
   "metadata": {},
   "outputs": [
    {
     "name": "stdout",
     "output_type": "stream",
     "text": [
      "Union Set :  {'Abhay', 'Divya', 'Surabhi', 'Atul', 'Adarsh', 'Pradeep', 'Karan', 'Akash', 'Shama'}\n",
      "Intersection Set :  {'Abhay', 'Karan', 'Divya', 'Shama'}\n"
     ]
    }
   ],
   "source": [
    "\n",
    "class_A={'Akash','Adarsh','Abhay','Karan','Shama','Divya'}\n",
    "class_B={'Abhay','Karan','Shama','Divya','Pradeep','Atul','Surabhi'}\n",
    "\n",
    "#Union\n",
    "\n",
    "union_set=class_A.union(class_B)\n",
    "print('Union Set : ',union_set)\n",
    "\n",
    "#Intersection\n",
    "intersection_set=class_A.intersection(class_B)\n",
    "print('Intersection Set : ',intersection_set)"
   ]
  }
 ],
 "metadata": {
  "kernelspec": {
   "display_name": "base",
   "language": "python",
   "name": "python3"
  },
  "language_info": {
   "codemirror_mode": {
    "name": "ipython",
    "version": 3
   },
   "file_extension": ".py",
   "mimetype": "text/x-python",
   "name": "python",
   "nbconvert_exporter": "python",
   "pygments_lexer": "ipython3",
   "version": "3.11.5"
  }
 },
 "nbformat": 4,
 "nbformat_minor": 2
}
