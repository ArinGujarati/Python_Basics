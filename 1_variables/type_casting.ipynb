{
 "cells": [
  {
   "cell_type": "markdown",
   "metadata": {},
   "source": [
    "## Type Casting : Changing from a data type to another data type"
   ]
  },
  {
   "cell_type": "code",
   "execution_count": 1,
   "metadata": {},
   "outputs": [
    {
     "name": "stdout",
     "output_type": "stream",
     "text": [
      "Before Covert TC Type Is:  <class 'int'>\n",
      "After Covert TC Type Is:  <class 'str'>\n"
     ]
    }
   ],
   "source": [
    "TC = 120\n",
    "print('Before Covert TC Type Is: ', type(TC))\n",
    "\n",
    "#covert into str\n",
    "TC = str(TC)\n",
    "print('After Covert TC Type Is: ', type(TC))"
   ]
  },
  {
   "cell_type": "code",
   "execution_count": 2,
   "metadata": {},
   "outputs": [
    {
     "name": "stdout",
     "output_type": "stream",
     "text": [
      "Before Covert TC Type Is:  <class 'str'>\n",
      "After Covert TC Type Is:  <class 'int'>\n"
     ]
    }
   ],
   "source": [
    "TC1 = '85'\n",
    "print('Before Covert TC Type Is: ', type(TC1))\n",
    "\n",
    "#covert into str\n",
    "TC1 = int(TC1)\n",
    "print('After Covert TC Type Is: ', type(TC1))"
   ]
  },
  {
   "cell_type": "code",
   "execution_count": 3,
   "metadata": {},
   "outputs": [
    {
     "ename": "ValueError",
     "evalue": "invalid literal for int() with base 10: '10112@'",
     "output_type": "error",
     "traceback": [
      "\u001b[1;31m---------------------------------------------------------------------------\u001b[0m",
      "\u001b[1;31mValueError\u001b[0m                                Traceback (most recent call last)",
      "Cell \u001b[1;32mIn[3], line 3\u001b[0m\n\u001b[0;32m      1\u001b[0m \u001b[38;5;66;03m## What will happen if my string is not convertible\u001b[39;00m\n\u001b[0;32m      2\u001b[0m string1\u001b[38;5;241m=\u001b[39m\u001b[38;5;124m\"\u001b[39m\u001b[38;5;124m10112@\u001b[39m\u001b[38;5;124m\"\u001b[39m\n\u001b[1;32m----> 3\u001b[0m string1\u001b[38;5;241m=\u001b[39m\u001b[38;5;28mint\u001b[39m(string1)\n",
      "\u001b[1;31mValueError\u001b[0m: invalid literal for int() with base 10: '10112@'"
     ]
    }
   ],
   "source": [
    "## What will happen if my string is not convertible\n",
    "string1=\"10112@\"\n",
    "string1=int(string1)\n",
    "# it will give us an eror"
   ]
  }
 ],
 "metadata": {
  "kernelspec": {
   "display_name": "base",
   "language": "python",
   "name": "python3"
  },
  "language_info": {
   "codemirror_mode": {
    "name": "ipython",
    "version": 3
   },
   "file_extension": ".py",
   "mimetype": "text/x-python",
   "name": "python",
   "nbconvert_exporter": "python",
   "pygments_lexer": "ipython3",
   "version": "3.11.5"
  }
 },
 "nbformat": 4,
 "nbformat_minor": 2
}
