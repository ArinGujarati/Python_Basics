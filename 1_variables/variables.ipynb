{
 "cells": [
  {
   "cell_type": "markdown",
   "metadata": {},
   "source": [
    "## Int, Flot and String Variable"
   ]
  },
  {
   "cell_type": "code",
   "execution_count": 27,
   "metadata": {},
   "outputs": [
    {
     "name": "stdout",
     "output_type": "stream",
     "text": [
      "Num 1 Value is:  100\n",
      "Variable type is:  <class 'int'>\n"
     ]
    }
   ],
   "source": [
    "# Variable: Which is not fixed?, and it can store values\n",
    "\n",
    "num1=100   # hey num1, your value is 100 now\n",
    "print('Num 1 Value is: ',num1)\n",
    "\n",
    "## type function\n",
    "print('Variable type is: ', type(num1))"
   ]
  },
  {
   "cell_type": "code",
   "execution_count": 28,
   "metadata": {},
   "outputs": [
    {
     "name": "stdout",
     "output_type": "stream",
     "text": [
      "Num 2 Value is:  2.85\n",
      "Variable type is:  <class 'float'>\n"
     ]
    }
   ],
   "source": [
    "num2= 2.85 \n",
    "print('Num 2 Value is: ',num2)\n",
    "\n",
    "## type function\n",
    "print('Variable type is: ', type(num2))"
   ]
  },
  {
   "cell_type": "code",
   "execution_count": 29,
   "metadata": {},
   "outputs": [
    {
     "name": "stdout",
     "output_type": "stream",
     "text": [
      "str 1 Value is:  username\n",
      "Variable type is:  <class 'str'>\n"
     ]
    }
   ],
   "source": [
    "str1 = \"username\"\n",
    "print('str 1 Value is: ',str1)\n",
    "\n",
    "## type function\n",
    "print('Variable type is: ', type(str1))\n",
    "\n",
    "# str means String or u can also say as text"
   ]
  },
  {
   "cell_type": "code",
   "execution_count": 30,
   "metadata": {},
   "outputs": [
    {
     "name": "stdout",
     "output_type": "stream",
     "text": [
      "Before Covert TC Type Is:  <class 'int'>\n",
      "After Covert TC Type Is:  <class 'str'>\n"
     ]
    }
   ],
   "source": []
  },
  {
   "cell_type": "code",
   "execution_count": 31,
   "metadata": {},
   "outputs": [
    {
     "name": "stdout",
     "output_type": "stream",
     "text": [
      "Before Covert TC Type Is:  <class 'str'>\n",
      "After Covert TC Type Is:  <class 'int'>\n"
     ]
    }
   ],
   "source": []
  },
  {
   "cell_type": "code",
   "execution_count": 32,
   "metadata": {},
   "outputs": [
    {
     "ename": "ValueError",
     "evalue": "invalid literal for int() with base 10: '10112@'",
     "output_type": "error",
     "traceback": [
      "\u001b[1;31m---------------------------------------------------------------------------\u001b[0m",
      "\u001b[1;31mValueError\u001b[0m                                Traceback (most recent call last)",
      "Cell \u001b[1;32mIn[32], line 3\u001b[0m\n\u001b[0;32m      1\u001b[0m \u001b[38;5;66;03m## What will happen if my string is not convertible\u001b[39;00m\n\u001b[0;32m      2\u001b[0m string1\u001b[38;5;241m=\u001b[39m\u001b[38;5;124m\"\u001b[39m\u001b[38;5;124m10112@\u001b[39m\u001b[38;5;124m\"\u001b[39m\n\u001b[1;32m----> 3\u001b[0m string1\u001b[38;5;241m=\u001b[39m\u001b[38;5;28mint\u001b[39m(string1)\n",
      "\u001b[1;31mValueError\u001b[0m: invalid literal for int() with base 10: '10112@'"
     ]
    }
   ],
   "source": [
    "## What will happen if my string is not convertible\n",
    "string1=\"10112@\"\n",
    "string1=int(string1)\n",
    "# it will give us an eror"
   ]
  },
  {
   "cell_type": "markdown",
   "metadata": {},
   "source": [
    "## Variable naming rules\n"
   ]
  },
  {
   "cell_type": "markdown",
   "metadata": {},
   "source": [
    " 1. A variable name should start from letter(A-Z, a-z) or _\n",
    " 2. A variable name can contain only A-Z, a-z and _"
   ]
  },
  {
   "cell_type": "code",
   "execution_count": null,
   "metadata": {},
   "outputs": [],
   "source": [
    "32_a=230   # you cannot start a variable name with a letter"
   ]
  },
  {
   "cell_type": "code",
   "execution_count": null,
   "metadata": {},
   "outputs": [],
   "source": [
    "_a=10\n",
    "_1=23\n",
    "a1=10\n",
    "_aZ=13\n",
    "a=10\n",
    "_=1232"
   ]
  },
  {
   "cell_type": "markdown",
   "metadata": {},
   "source": [
    "## UserInput "
   ]
  },
  {
   "cell_type": "code",
   "execution_count": 33,
   "metadata": {},
   "outputs": [
    {
     "name": "stdout",
     "output_type": "stream",
     "text": [
      "Hello Javed\n"
     ]
    }
   ],
   "source": [
    "#We have a function input()\n",
    "name_user=input(\"Enter your name \")\n",
    "print(\"Hello\",name_user)"
   ]
  },
  {
   "cell_type": "code",
   "execution_count": 36,
   "metadata": {},
   "outputs": [
    {
     "name": "stdout",
     "output_type": "stream",
     "text": [
      "Enter Value is:  85.0  and type is:  <class 'float'>\n"
     ]
    }
   ],
   "source": [
    "# Enter specific Float Value\n",
    "num1=float(input(\"Enter a number \"))\n",
    "print(\"Enter Value is: \", num1 , \" and type is: \", type(num1))"
   ]
  },
  {
   "cell_type": "markdown",
   "metadata": {},
   "source": [
    "## Lists"
   ]
  },
  {
   "cell_type": "code",
   "execution_count": 85,
   "metadata": {},
   "outputs": [
    {
     "name": "stdout",
     "output_type": "stream",
     "text": [
      "List Value is:  ['Akshay', 'Akash', 'Anthony', 'Pradeep', 'Arin', 'Mahesh']\n",
      "Type of value is:  <class 'list'>\n"
     ]
    }
   ],
   "source": [
    "## List: List is a mutable data type (it can be changed)\n",
    "\n",
    "## to create a list:\n",
    "names=[\"Akshay\",\"Akash\",\"Anthony\",\"Pradeep\",\"Arin\",\"Mahesh\"]\n",
    "\n",
    "print('List Value is: ', names)\n",
    "print('Type of value is: ', type(names))"
   ]
  },
  {
   "cell_type": "code",
   "execution_count": 43,
   "metadata": {},
   "outputs": [
    {
     "data": {
      "text/plain": [
       "'Anthony'"
      ]
     },
     "execution_count": 43,
     "metadata": {},
     "output_type": "execute_result"
    }
   ],
   "source": [
    "# acces value of list using index no\n",
    "# in list index count start from 0\n",
    "names[2]"
   ]
  },
  {
   "cell_type": "code",
   "execution_count": 86,
   "metadata": {},
   "outputs": [
    {
     "name": "stdout",
     "output_type": "stream",
     "text": [
      "Before Change value Anthony\n",
      "After Change value Divya\n"
     ]
    }
   ],
   "source": [
    "# changing the list elements value\n",
    "\n",
    "print('Before Change value',names[2])\n",
    "\n",
    "names[2]=\"Divya\"\n",
    "\n",
    "print('After Change value',names[2])"
   ]
  },
  {
   "cell_type": "code",
   "execution_count": 87,
   "metadata": {},
   "outputs": [
    {
     "name": "stdout",
     "output_type": "stream",
     "text": [
      "['Akshay', 'Akash', 'Divya', 'Pradeep', 'Arin', 'Mahesh']\n",
      "The length is 6\n",
      "['Akshay', 'Akash', 'Divya', 'Pradeep', 'Arin', 'Mahesh', 'Sunil']\n",
      "The length is 7\n",
      "3\n",
      "6\n"
     ]
    }
   ],
   "source": [
    "## Some important List functions\n",
    "\n",
    "print(names)\n",
    "print(\"The length is\", len(names))\n",
    "\n",
    "#1. append() , append adds a element at the last of the list\n",
    "names.append(\"Sunil\")\n",
    "print(names)\n",
    "print(\"The length is\", len(names))\n",
    "\n",
    "#2. index() , gives the first index of any element\n",
    "print(names.index('Pradeep'))\n",
    "print(names.index('Sunil'))"
   ]
  },
  {
   "cell_type": "code",
   "execution_count": 89,
   "metadata": {},
   "outputs": [
    {
     "name": "stdout",
     "output_type": "stream",
     "text": [
      "['Apple', 'Banana']\n"
     ]
    }
   ],
   "source": [
    "## 3. remove an element ,\n",
    "\n",
    "## pop , pop will remove the last element, by default\n",
    "\n",
    "list2=[\"Apple\",\"Banana\",'Tomato','Potato']\n",
    "\n",
    "list2.pop()\n",
    "list2.pop(2)    # (2 is the elememt's index which you want to remove)\n",
    "print(list2)"
   ]
  },
  {
   "cell_type": "code",
   "execution_count": 90,
   "metadata": {},
   "outputs": [
    {
     "name": "stdout",
     "output_type": "stream",
     "text": [
      "['Apple', 'Tomato', 'Potato']\n"
     ]
    }
   ],
   "source": [
    "## 4. What if i want to remove any element by it's name / value\n",
    "\n",
    "list2=[\"Apple\",\"Banana\",'Tomato','Potato']\n",
    "\n",
    "list2.remove('Banana')\n",
    "print(list2)"
   ]
  },
  {
   "cell_type": "code",
   "execution_count": 1,
   "metadata": {},
   "outputs": [
    {
     "name": "stdout",
     "output_type": "stream",
     "text": [
      "Before Sorting List:  [234, 325, 523, 543, 43, 343, 3, 5, 2]\n",
      "After Sorting List:  [2, 3, 5, 43, 234, 325, 343, 523, 543]\n",
      "After Sorting and Reverse List:  [543, 523, 343, 325, 234, 43, 5, 3, 2]\n"
     ]
    }
   ],
   "source": [
    "## 5. Sorting any list\n",
    "\n",
    "list2=[234,325,523,543,43,343,3,5,2]\n",
    "print('Before Sorting List: ',list2)\n",
    "\n",
    "list2.sort()                  # list will be sorted in ascending order by default\n",
    "print('After Sorting List: ',list2)\n",
    "\n",
    "\n",
    "list2.sort(reverse=True)              # reverse=True will sort my array in descending order\n",
    "print('After Sorting and Reverse List: ',list2)"
   ]
  },
  {
   "cell_type": "markdown",
   "metadata": {},
   "source": [
    "## Tuple"
   ]
  },
  {
   "cell_type": "markdown",
   "metadata": {},
   "source": [
    "In tuple you cannot chnage the value of the elements, neither you can add or delete elemets"
   ]
  },
  {
   "cell_type": "code",
   "execution_count": 2,
   "metadata": {},
   "outputs": [
    {
     "name": "stdout",
     "output_type": "stream",
     "text": [
      "Tuple Value is:  ('div213', 'ak3452', 'kasy3203', 'edse54')\n",
      "Type of value is:  <class 'tuple'>\n"
     ]
    }
   ],
   "source": [
    "## Syntax of making a tuple\n",
    "\n",
    "username=('div213','ak3452','kasy3203','edse54')\n",
    "print('Tuple Value is: ', username)\n",
    "print('Type of value is: ', type(username))"
   ]
  },
  {
   "cell_type": "code",
   "execution_count": 3,
   "metadata": {},
   "outputs": [
    {
     "data": {
      "text/plain": [
       "('ak3452', 'kasy3203')"
      ]
     },
     "execution_count": 3,
     "metadata": {},
     "output_type": "execute_result"
    }
   ],
   "source": [
    "# We cannot add or remove elemnts in tuple but tuple supports slicing\n",
    "username[1:3]"
   ]
  },
  {
   "cell_type": "markdown",
   "metadata": {},
   "source": [
    "## Sets"
   ]
  },
  {
   "cell_type": "markdown",
   "metadata": {},
   "source": [
    "Sets are unordered, (unindexed) but do support item assignment and deletion, Sets do not allow duplicates"
   ]
  },
  {
   "cell_type": "code",
   "execution_count": 11,
   "metadata": {},
   "outputs": [
    {
     "name": "stdout",
     "output_type": "stream",
     "text": [
      "Set Value is:  {'Atul', 'Divya', 'Surabhi', 'Pradeep'}\n",
      "Type of value is:  <class 'set'>\n"
     ]
    }
   ],
   "source": [
    "set1={'Atul','Surabhi','Pradeep','Divya','Atul'}\n",
    "print('Set Value is: ', set1)\n",
    "print('Type of value is: ', type(set1))"
   ]
  },
  {
   "cell_type": "markdown",
   "metadata": {},
   "source": [
    "Functions of sets"
   ]
  },
  {
   "cell_type": "code",
   "execution_count": 12,
   "metadata": {},
   "outputs": [
    {
     "data": {
      "text/plain": [
       "{1, 2, 3, 7, 12, 34, 35, 57, 346, 754, 3244, 6574}"
      ]
     },
     "execution_count": 12,
     "metadata": {},
     "output_type": "execute_result"
    }
   ],
   "source": [
    "set2={1,3244,346,35,6574,7,754,754,57,34,2,3}\n",
    "\n",
    "## 1. add() , it will add an element to set\n",
    "set2.add(12)\n",
    "set2\n"
   ]
  },
  {
   "cell_type": "code",
   "execution_count": 13,
   "metadata": {},
   "outputs": [
    {
     "data": {
      "text/plain": [
       "{1, 2, 3, 7, 12, 34, 35, 57, 346, 754, 3244}"
      ]
     },
     "execution_count": 13,
     "metadata": {},
     "output_type": "execute_result"
    }
   ],
   "source": [
    "## 2. Remove\n",
    "\n",
    "set2.remove(6574)\n",
    "set2"
   ]
  },
  {
   "cell_type": "markdown",
   "metadata": {},
   "source": [
    "## Intersection and union"
   ]
  },
  {
   "cell_type": "code",
   "execution_count": 15,
   "metadata": {},
   "outputs": [
    {
     "name": "stdout",
     "output_type": "stream",
     "text": [
      "Union Set :  {'Akash', 'Surabhi', 'Pradeep', 'Divya', 'Adarsh', 'Shama', 'Atul', 'Abhay', 'Karan'}\n",
      "Intersection Set :  {'Karan', 'Divya', 'Abhay', 'Shama'}\n"
     ]
    }
   ],
   "source": [
    "\n",
    "class_A={'Akash','Adarsh','Abhay','Karan','Shama','Divya'}\n",
    "class_B={'Abhay','Karan','Shama','Divya','Pradeep','Atul','Surabhi'}\n",
    "\n",
    "#Union\n",
    "\n",
    "union_set=class_A.union(class_B)\n",
    "print('Union Set : ',union_set)\n",
    "\n",
    "#Intersection\n",
    "intersection_set=class_A.intersection(class_B)\n",
    "print('Intersection Set : ',intersection_set)"
   ]
  },
  {
   "cell_type": "markdown",
   "metadata": {},
   "source": [
    "## Dictionary"
   ]
  },
  {
   "cell_type": "code",
   "execution_count": 16,
   "metadata": {},
   "outputs": [],
   "source": [
    "#Dictionary stores data in key, value pair\n",
    "#<var_name> = {\"key1\":\"value1\" , key2: value2 }\n",
    "\n",
    "dict1={\"Shama\":28 , \"Divya\":27, \"Akash\":30, \"Abhay\":35}"
   ]
  },
  {
   "cell_type": "code",
   "execution_count": 17,
   "metadata": {},
   "outputs": [
    {
     "data": {
      "text/plain": [
       "30"
      ]
     },
     "execution_count": 17,
     "metadata": {},
     "output_type": "execute_result"
    }
   ],
   "source": [
    "# Get Value From Dictionary\n",
    "dict1[\"Akash\"]"
   ]
  },
  {
   "cell_type": "code",
   "execution_count": 19,
   "metadata": {},
   "outputs": [
    {
     "data": {
      "text/plain": [
       "dict_keys(['Shama', 'Divya', 'Akash', 'Abhay'])"
      ]
     },
     "execution_count": 19,
     "metadata": {},
     "output_type": "execute_result"
    }
   ],
   "source": [
    "## Some imp functions in dictionaries\n",
    "\n",
    "dict1.keys() # Returns all the keys of a dictionary"
   ]
  },
  {
   "cell_type": "code",
   "execution_count": 20,
   "metadata": {},
   "outputs": [
    {
     "name": "stdout",
     "output_type": "stream",
     "text": [
      "dict_values([28, 27, 30, 35])\n"
     ]
    }
   ],
   "source": [
    "## Values of dictionaries\n",
    "\n",
    "print(dict1.values())"
   ]
  },
  {
   "cell_type": "code",
   "execution_count": 22,
   "metadata": {},
   "outputs": [
    {
     "data": {
      "text/plain": [
       "dict_items([('Shama', 28), ('Divya', 27), ('Akash', 30), ('Abhay', 35)])"
      ]
     },
     "execution_count": 22,
     "metadata": {},
     "output_type": "execute_result"
    }
   ],
   "source": [
    "## To get both keys and values\n",
    "\n",
    "dict1.items()"
   ]
  },
  {
   "cell_type": "code",
   "execution_count": 23,
   "metadata": {},
   "outputs": [
    {
     "data": {
      "text/plain": [
       "27"
      ]
     },
     "execution_count": 23,
     "metadata": {},
     "output_type": "execute_result"
    }
   ],
   "source": [
    "## To remove items from dictionary\n",
    "\n",
    "dict1.pop('Divya')"
   ]
  },
  {
   "cell_type": "code",
   "execution_count": null,
   "metadata": {},
   "outputs": [],
   "source": [
    "dict1['Shama']=30    # updations in a dict"
   ]
  },
  {
   "cell_type": "markdown",
   "metadata": {},
   "source": [
    "## Operators"
   ]
  },
  {
   "cell_type": "markdown",
   "metadata": {},
   "source": [
    "Airthmetic   + - / // % ** *\n",
    "\n",
    "Assignment operator   = , += , -=\n",
    "\n",
    "Comparision operator  ==, != , > ,<,>= ,<=\n",
    "\n",
    "Logical Opeartors and or not\n",
    "\n",
    "Indentity operators is is not\n",
    "\n",
    "Membership operators in , not in\n"
   ]
  },
  {
   "cell_type": "code",
   "execution_count": 24,
   "metadata": {},
   "outputs": [
    {
     "name": "stdout",
     "output_type": "stream",
     "text": [
      "13\n",
      "7\n",
      "30\n",
      "3.3333333333333335\n",
      "3\n",
      "1\n",
      "8\n"
     ]
    }
   ],
   "source": [
    "a=10\n",
    "b=3\n",
    "print(a+b)\n",
    "print(a-b)\n",
    "print(a*b)\n",
    "print(a/b)      ##  / gives answer in float (decimal places)\n",
    "print(a//b)     ##  gives you the qoutient obtained after dividing\n",
    "print(a%b)   # % gives you the remainder\n",
    "print(2**3)    ## x **y means x^y x raised to power y   (x multiplied y times)"
   ]
  },
  {
   "cell_type": "code",
   "execution_count": 26,
   "metadata": {},
   "outputs": [
    {
     "name": "stdout",
     "output_type": "stream",
     "text": [
      "False\n",
      "True\n",
      "True\n",
      "False\n",
      "True\n",
      "False\n"
     ]
    }
   ],
   "source": [
    "## Comparision Operators will give you answer in True/ False (bool)\n",
    "\n",
    "x=100\n",
    "y=20\n",
    "\n",
    "print(x==y)\n",
    "print(x!=y)      ## != does not equals\n",
    "print(x>y)\n",
    "print(x<y)\n",
    "print(x>=y)\n",
    "print(x<=y)"
   ]
  },
  {
   "cell_type": "code",
   "execution_count": 28,
   "metadata": {},
   "outputs": [
    {
     "name": "stdout",
     "output_type": "stream",
     "text": [
      "True\n",
      "True\n"
     ]
    }
   ],
   "source": [
    "x=10\n",
    "y=20\n",
    "z=13\n",
    "\n",
    "print(y>x and y>z)\n",
    "\n",
    "print(y>x or z>y)"
   ]
  },
  {
   "cell_type": "code",
   "execution_count": 32,
   "metadata": {},
   "outputs": [],
   "source": [
    "x=[1,2,3,4]\n",
    "\n",
    "y=x\n",
    "\n",
    "z=[1,2,3]"
   ]
  },
  {
   "cell_type": "code",
   "execution_count": 33,
   "metadata": {},
   "outputs": [
    {
     "name": "stdout",
     "output_type": "stream",
     "text": [
      "True\n",
      "True\n"
     ]
    }
   ],
   "source": [
    "print(y is x)\n",
    "print(y is not z)"
   ]
  },
  {
   "cell_type": "code",
   "execution_count": 35,
   "metadata": {},
   "outputs": [
    {
     "name": "stdout",
     "output_type": "stream",
     "text": [
      "True\n",
      "True\n"
     ]
    }
   ],
   "source": [
    "## Membership operators\n",
    "\n",
    "list1=[\"Vaishanvi\",\"Karan\",\"Pradeep\",\"Divya\"]\n",
    "\n",
    "print(\"Divya\" in list1)\n",
    "print(\"Akash\" not in list1)"
   ]
  },
  {
   "cell_type": "markdown",
   "metadata": {},
   "source": [
    "## Conditional Statements"
   ]
  },
  {
   "cell_type": "code",
   "execution_count": 40,
   "metadata": {},
   "outputs": [
    {
     "name": "stdout",
     "output_type": "stream",
     "text": [
      "A is greater than B\n"
     ]
    }
   ],
   "source": [
    "a=10\n",
    "b=9\n",
    "\n",
    "if b>a:\n",
    "  print(\"B is greater than A\")\n",
    "else: \n",
    "    print(\"A is greater than B\")"
   ]
  },
  {
   "cell_type": "code",
   "execution_count": 41,
   "metadata": {},
   "outputs": [
    {
     "name": "stdout",
     "output_type": "stream",
     "text": [
      "85 is greater\n"
     ]
    }
   ],
   "source": [
    "## Make a program which will check which is greater?\n",
    "\n",
    "num1=int(input(\"Enter a number\"))\n",
    "num2=int(input(\"Enter another number\"))\n",
    "\n",
    "if num1==num2:\n",
    "  print(num1,\"is greater (I'm from if)\")\n",
    "\n",
    "elif num1==num2:\n",
    "  print(num1,num2 , 'Are equal')\n",
    "\n",
    "else:\n",
    "  print(num2,\"is greater\")"
   ]
  },
  {
   "cell_type": "markdown",
   "metadata": {},
   "source": [
    "## Slicing : Extracting a portion of a List"
   ]
  },
  {
   "cell_type": "code",
   "execution_count": 47,
   "metadata": {},
   "outputs": [
    {
     "name": "stdout",
     "output_type": "stream",
     "text": [
      "['Akash', 'Anthony', 'Pradeep']\n"
     ]
    }
   ],
   "source": [
    "# assume we have a list called names\n",
    "# first value is starting index and second value is ending value + 1 index\n",
    "print(names[1:4])"
   ]
  },
  {
   "cell_type": "code",
   "execution_count": 49,
   "metadata": {},
   "outputs": [
    {
     "name": "stdout",
     "output_type": "stream",
     "text": [
      "['Akshay', 'Akash']\n"
     ]
    }
   ],
   "source": [
    "# when we put only secnd value then it will take first value as 0\n",
    "print(names[:2])"
   ]
  },
  {
   "cell_type": "code",
   "execution_count": 51,
   "metadata": {},
   "outputs": [
    {
     "name": "stdout",
     "output_type": "stream",
     "text": [
      "['Anthony', 'Pradeep', 'Arin', 'Mahesh']\n"
     ]
    }
   ],
   "source": [
    "# when we put only first value then it will take secound value as last value in list\n",
    "print(names[2:])"
   ]
  },
  {
   "cell_type": "code",
   "execution_count": 81,
   "metadata": {},
   "outputs": [
    {
     "name": "stdout",
     "output_type": "stream",
     "text": [
      "['Akshay', 'Anthony', 'Arin']\n"
     ]
    }
   ],
   "source": [
    "# thid value is for step how many of index they skip for next value by default step value is 1 when u not assign any value\n",
    "print(names[0:6:2])"
   ]
  },
  {
   "cell_type": "code",
   "execution_count": 53,
   "metadata": {},
   "outputs": [
    {
     "data": {
      "text/plain": [
       "['Akshay', 'Akash', 'Anthony']"
      ]
     },
     "execution_count": 53,
     "metadata": {},
     "output_type": "execute_result"
    }
   ],
   "source": [
    "## Negative slicing\n",
    "\n",
    "names[-6:-3]"
   ]
  },
  {
   "cell_type": "markdown",
   "metadata": {},
   "source": [
    "## Python In Build Functions"
   ]
  },
  {
   "cell_type": "code",
   "execution_count": 52,
   "metadata": {},
   "outputs": [
    {
     "data": {
      "text/plain": [
       "6"
      ]
     },
     "execution_count": 52,
     "metadata": {},
     "output_type": "execute_result"
    }
   ],
   "source": [
    "# To get the length of an list , we can use len function\n",
    "\n",
    "len(names)"
   ]
  },
  {
   "cell_type": "code",
   "execution_count": 56,
   "metadata": {},
   "outputs": [
    {
     "data": {
      "text/plain": [
       "[1, 2, 3, 4, 5, 6, 7, 8, 9, 10]"
      ]
     },
     "execution_count": 56,
     "metadata": {},
     "output_type": "execute_result"
    }
   ],
   "source": [
    "# range() function need to value to assign starting value and ending value + 1, and it will return an list of given value\n",
    "list1=list(range(1,11))\n",
    "list1"
   ]
  },
  {
   "cell_type": "code",
   "execution_count": null,
   "metadata": {},
   "outputs": [],
   "source": []
  }
 ],
 "metadata": {
  "kernelspec": {
   "display_name": "base",
   "language": "python",
   "name": "python3"
  },
  "language_info": {
   "codemirror_mode": {
    "name": "ipython",
    "version": 3
   },
   "file_extension": ".py",
   "mimetype": "text/x-python",
   "name": "python",
   "nbconvert_exporter": "python",
   "pygments_lexer": "ipython3",
   "version": "3.11.5"
  }
 },
 "nbformat": 4,
 "nbformat_minor": 2
}
