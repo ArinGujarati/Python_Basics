{
 "cells": [
  {
   "cell_type": "markdown",
   "metadata": {},
   "source": [
    "## Int, Flot and String Variable"
   ]
  },
  {
   "cell_type": "code",
   "execution_count": 1,
   "metadata": {},
   "outputs": [
    {
     "name": "stdout",
     "output_type": "stream",
     "text": [
      "Num 1 Value is:  100\n",
      "Variable type is:  <class 'int'>\n"
     ]
    }
   ],
   "source": [
    "# Variable: Which is not fixed?, and it can store values\n",
    "\n",
    "num1=100   # hey num1, your value is 100 now\n",
    "print('Num 1 Value is: ',num1)\n",
    "\n",
    "## type function\n",
    "print('Variable type is: ', type(num1))"
   ]
  },
  {
   "cell_type": "code",
   "execution_count": 2,
   "metadata": {},
   "outputs": [
    {
     "name": "stdout",
     "output_type": "stream",
     "text": [
      "Num 2 Value is:  2.85\n",
      "Variable type is:  <class 'float'>\n"
     ]
    }
   ],
   "source": [
    "num2= 2.85 \n",
    "print('Num 2 Value is: ',num2)\n",
    "\n",
    "## type function\n",
    "print('Variable type is: ', type(num2))"
   ]
  },
  {
   "cell_type": "code",
   "execution_count": 3,
   "metadata": {},
   "outputs": [
    {
     "name": "stdout",
     "output_type": "stream",
     "text": [
      "str 1 Value is:  username\n",
      "Variable type is:  <class 'str'>\n"
     ]
    }
   ],
   "source": [
    "str1 = \"username\"\n",
    "print('str 1 Value is: ',str1)\n",
    "\n",
    "## type function\n",
    "print('Variable type is: ', type(str1))\n",
    "\n",
    "# str means String or u can also say as text"
   ]
  }
 ],
 "metadata": {
  "kernelspec": {
   "display_name": "base",
   "language": "python",
   "name": "python3"
  },
  "language_info": {
   "codemirror_mode": {
    "name": "ipython",
    "version": 3
   },
   "file_extension": ".py",
   "mimetype": "text/x-python",
   "name": "python",
   "nbconvert_exporter": "python",
   "pygments_lexer": "ipython3",
   "version": "3.11.5"
  }
 },
 "nbformat": 4,
 "nbformat_minor": 2
}
