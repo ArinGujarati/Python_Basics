{
 "cells": [
  {
   "cell_type": "markdown",
   "metadata": {},
   "source": [
    "## Slicing : Extracting a portion of a List"
   ]
  },
  {
   "cell_type": "code",
   "execution_count": 1,
   "metadata": {},
   "outputs": [
    {
     "name": "stdout",
     "output_type": "stream",
     "text": [
      "['Akash', 'Anthony', 'Pradeep']\n"
     ]
    }
   ],
   "source": [
    "# assume we have a list called names\n",
    "# first value is starting index and second value is ending value + 1 index\n",
    "names=[\"Akshay\",\"Akash\",\"Anthony\",\"Pradeep\",\"Arin\",\"Mahesh\"]\n",
    "print(names[1:4])"
   ]
  },
  {
   "cell_type": "code",
   "execution_count": 2,
   "metadata": {},
   "outputs": [
    {
     "name": "stdout",
     "output_type": "stream",
     "text": [
      "['Akshay', 'Akash']\n"
     ]
    }
   ],
   "source": [
    "# when we put only secnd value then it will take first value as 0\n",
    "print(names[:2])"
   ]
  },
  {
   "cell_type": "code",
   "execution_count": 3,
   "metadata": {},
   "outputs": [
    {
     "name": "stdout",
     "output_type": "stream",
     "text": [
      "['Anthony', 'Pradeep', 'Arin', 'Mahesh']\n"
     ]
    }
   ],
   "source": [
    "# when we put only first value then it will take secound value as last value in list\n",
    "print(names[2:])"
   ]
  },
  {
   "cell_type": "code",
   "execution_count": 4,
   "metadata": {},
   "outputs": [
    {
     "name": "stdout",
     "output_type": "stream",
     "text": [
      "['Akshay', 'Anthony', 'Arin']\n"
     ]
    }
   ],
   "source": [
    "# thid value is for step how many of index they skip for next value by default step value is 1 when u not assign any value\n",
    "print(names[0:6:2])"
   ]
  },
  {
   "cell_type": "code",
   "execution_count": 5,
   "metadata": {},
   "outputs": [
    {
     "data": {
      "text/plain": [
       "['Akshay', 'Akash', 'Anthony']"
      ]
     },
     "execution_count": 5,
     "metadata": {},
     "output_type": "execute_result"
    }
   ],
   "source": [
    "## Negative slicing\n",
    "\n",
    "names[-6:-3]"
   ]
  }
 ],
 "metadata": {
  "kernelspec": {
   "display_name": "base",
   "language": "python",
   "name": "python3"
  },
  "language_info": {
   "codemirror_mode": {
    "name": "ipython",
    "version": 3
   },
   "file_extension": ".py",
   "mimetype": "text/x-python",
   "name": "python",
   "nbconvert_exporter": "python",
   "pygments_lexer": "ipython3",
   "version": "3.11.5"
  }
 },
 "nbformat": 4,
 "nbformat_minor": 2
}
