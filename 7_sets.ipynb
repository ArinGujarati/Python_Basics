{
 "cells": [
  {
   "cell_type": "markdown",
   "metadata": {},
   "source": [
    "## Sets \n",
    "\n",
    "Sets are unordered, (unindexed) but do support item assignment and deletion, Sets do not allow duplicates"
   ]
  },
  {
   "cell_type": "code",
   "execution_count": 1,
   "metadata": {},
   "outputs": [
    {
     "name": "stdout",
     "output_type": "stream",
     "text": [
      "Set Value is:  {'Surabhi', 'Atul', 'Divya', 'Pradeep'}\n",
      "Type of value is:  <class 'set'>\n"
     ]
    }
   ],
   "source": [
    "set1={'Atul','Surabhi','Pradeep','Divya','Atul'}\n",
    "print('Set Value is: ', set1)\n",
    "print('Type of value is: ', type(set1))"
   ]
  },
  {
   "cell_type": "markdown",
   "metadata": {},
   "source": [
    "## Functions of sets"
   ]
  },
  {
   "cell_type": "code",
   "execution_count": 2,
   "metadata": {},
   "outputs": [
    {
     "data": {
      "text/plain": [
       "{1, 2, 3, 7, 12, 34, 35, 57, 346, 754, 3244, 6574}"
      ]
     },
     "execution_count": 2,
     "metadata": {},
     "output_type": "execute_result"
    }
   ],
   "source": [
    "set2={1,3244,346,35,6574,7,754,754,57,34,2,3}\n",
    "\n",
    "## 1. add() , it will add an element to set\n",
    "set2.add(12)\n",
    "set2\n"
   ]
  },
  {
   "cell_type": "code",
   "execution_count": 3,
   "metadata": {},
   "outputs": [
    {
     "data": {
      "text/plain": [
       "{1, 2, 3, 7, 12, 34, 35, 57, 346, 754, 3244}"
      ]
     },
     "execution_count": 3,
     "metadata": {},
     "output_type": "execute_result"
    }
   ],
   "source": [
    "## 2. Remove\n",
    "\n",
    "set2.remove(6574)\n",
    "set2"
   ]
  }
 ],
 "metadata": {
  "kernelspec": {
   "display_name": "base",
   "language": "python",
   "name": "python3"
  },
  "language_info": {
   "codemirror_mode": {
    "name": "ipython",
    "version": 3
   },
   "file_extension": ".py",
   "mimetype": "text/x-python",
   "name": "python",
   "nbconvert_exporter": "python",
   "pygments_lexer": "ipython3",
   "version": "3.11.5"
  }
 },
 "nbformat": 4,
 "nbformat_minor": 2
}
